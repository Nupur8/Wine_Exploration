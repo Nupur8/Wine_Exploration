{
 "cells": [
  {
   "cell_type": "code",
   "execution_count": 1,
   "metadata": {},
   "outputs": [
    {
     "data": {
      "text/html": [
       "<script>requirejs.config({paths: { 'plotly': ['https://cdn.plot.ly/plotly-latest.min']},});if(!window.Plotly) {{require(['plotly'],function(plotly) {window.Plotly=plotly;});}}</script>"
      ],
      "text/vnd.plotly.v1+html": [
       "<script>requirejs.config({paths: { 'plotly': ['https://cdn.plot.ly/plotly-latest.min']},});if(!window.Plotly) {{require(['plotly'],function(plotly) {window.Plotly=plotly;});}}</script>"
      ]
     },
     "metadata": {},
     "output_type": "display_data"
    }
   ],
   "source": [
    "import requests\n",
    "import matplotlib.pyplot as plt\n",
    "import numpy as np\n",
    "import pandas as pd\n",
    "import warnings\n",
    "import nltk\n",
    "import math\n",
    "import string\n",
    "import plotly\n",
    "import re\n",
    "import os\n",
    "from matplotlib import gridspec\n",
    "from scipy.sparse import hstack\n",
    "import pandas as pd\n",
    "from nltk.corpus import stopwords\n",
    "from nltk.tokenize import word_tokenize\n",
    "from sklearn.metrics.classification import accuracy_score, log_loss\n",
    "from sklearn.linear_model import SGDClassifier\n",
    "from sklearn.calibration import CalibratedClassifierCV\n",
    "from collections import Counter\n",
    "from sklearn.feature_extraction.text import CountVectorizer\n",
    "from sklearn.feature_extraction.text import TfidfVectorizer\n",
    "from sklearn.model_selection import train_test_split\n",
    "import nltk\n",
    "from plotly.graph_objs import Scatter, Layout\n",
    "plotly.offline.init_notebook_mode(connected=True)\n",
    "warnings.filterwarnings(\"ignore\")\n",
    "\n",
    "\n"
   ]
  },
  {
   "cell_type": "code",
   "execution_count": 2,
   "metadata": {},
   "outputs": [
    {
     "data": {
      "text/html": [
       "<div>\n",
       "<style>\n",
       "    .dataframe thead tr:only-child th {\n",
       "        text-align: right;\n",
       "    }\n",
       "\n",
       "    .dataframe thead th {\n",
       "        text-align: left;\n",
       "    }\n",
       "\n",
       "    .dataframe tbody tr th {\n",
       "        vertical-align: top;\n",
       "    }\n",
       "</style>\n",
       "<table border=\"1\" class=\"dataframe\">\n",
       "  <thead>\n",
       "    <tr style=\"text-align: right;\">\n",
       "      <th></th>\n",
       "      <th>Unnamed: 0</th>\n",
       "      <th>country</th>\n",
       "      <th>description</th>\n",
       "      <th>designation</th>\n",
       "      <th>points</th>\n",
       "      <th>price</th>\n",
       "      <th>province</th>\n",
       "      <th>region_1</th>\n",
       "      <th>region_2</th>\n",
       "      <th>taster_name</th>\n",
       "      <th>taster_twitter_handle</th>\n",
       "      <th>title</th>\n",
       "      <th>variety</th>\n",
       "      <th>winery</th>\n",
       "    </tr>\n",
       "  </thead>\n",
       "  <tbody>\n",
       "    <tr>\n",
       "      <th>0</th>\n",
       "      <td>0</td>\n",
       "      <td>Italy</td>\n",
       "      <td>Aromas include tropical fruit, broom, brimston...</td>\n",
       "      <td>Vulkà Bianco</td>\n",
       "      <td>87</td>\n",
       "      <td>NaN</td>\n",
       "      <td>Sicily &amp; Sardinia</td>\n",
       "      <td>Etna</td>\n",
       "      <td>NaN</td>\n",
       "      <td>Kerin O’Keefe</td>\n",
       "      <td>@kerinokeefe</td>\n",
       "      <td>Nicosia 2013 Vulkà Bianco  (Etna)</td>\n",
       "      <td>White Blend</td>\n",
       "      <td>Nicosia</td>\n",
       "    </tr>\n",
       "    <tr>\n",
       "      <th>1</th>\n",
       "      <td>1</td>\n",
       "      <td>Portugal</td>\n",
       "      <td>This is ripe and fruity, a wine that is smooth...</td>\n",
       "      <td>Avidagos</td>\n",
       "      <td>87</td>\n",
       "      <td>15.0</td>\n",
       "      <td>Douro</td>\n",
       "      <td>NaN</td>\n",
       "      <td>NaN</td>\n",
       "      <td>Roger Voss</td>\n",
       "      <td>@vossroger</td>\n",
       "      <td>Quinta dos Avidagos 2011 Avidagos Red (Douro)</td>\n",
       "      <td>Portuguese Red</td>\n",
       "      <td>Quinta dos Avidagos</td>\n",
       "    </tr>\n",
       "    <tr>\n",
       "      <th>2</th>\n",
       "      <td>2</td>\n",
       "      <td>US</td>\n",
       "      <td>Tart and snappy, the flavors of lime flesh and...</td>\n",
       "      <td>NaN</td>\n",
       "      <td>87</td>\n",
       "      <td>14.0</td>\n",
       "      <td>Oregon</td>\n",
       "      <td>Willamette Valley</td>\n",
       "      <td>Willamette Valley</td>\n",
       "      <td>Paul Gregutt</td>\n",
       "      <td>@paulgwine</td>\n",
       "      <td>Rainstorm 2013 Pinot Gris (Willamette Valley)</td>\n",
       "      <td>Pinot Gris</td>\n",
       "      <td>Rainstorm</td>\n",
       "    </tr>\n",
       "    <tr>\n",
       "      <th>3</th>\n",
       "      <td>3</td>\n",
       "      <td>US</td>\n",
       "      <td>Pineapple rind, lemon pith and orange blossom ...</td>\n",
       "      <td>Reserve Late Harvest</td>\n",
       "      <td>87</td>\n",
       "      <td>13.0</td>\n",
       "      <td>Michigan</td>\n",
       "      <td>Lake Michigan Shore</td>\n",
       "      <td>NaN</td>\n",
       "      <td>Alexander Peartree</td>\n",
       "      <td>NaN</td>\n",
       "      <td>St. Julian 2013 Reserve Late Harvest Riesling ...</td>\n",
       "      <td>Riesling</td>\n",
       "      <td>St. Julian</td>\n",
       "    </tr>\n",
       "    <tr>\n",
       "      <th>4</th>\n",
       "      <td>4</td>\n",
       "      <td>US</td>\n",
       "      <td>Much like the regular bottling from 2012, this...</td>\n",
       "      <td>Vintner's Reserve Wild Child Block</td>\n",
       "      <td>87</td>\n",
       "      <td>65.0</td>\n",
       "      <td>Oregon</td>\n",
       "      <td>Willamette Valley</td>\n",
       "      <td>Willamette Valley</td>\n",
       "      <td>Paul Gregutt</td>\n",
       "      <td>@paulgwine</td>\n",
       "      <td>Sweet Cheeks 2012 Vintner's Reserve Wild Child...</td>\n",
       "      <td>Pinot Noir</td>\n",
       "      <td>Sweet Cheeks</td>\n",
       "    </tr>\n",
       "    <tr>\n",
       "      <th>5</th>\n",
       "      <td>5</td>\n",
       "      <td>Spain</td>\n",
       "      <td>Blackberry and raspberry aromas show a typical...</td>\n",
       "      <td>Ars In Vitro</td>\n",
       "      <td>87</td>\n",
       "      <td>15.0</td>\n",
       "      <td>Northern Spain</td>\n",
       "      <td>Navarra</td>\n",
       "      <td>NaN</td>\n",
       "      <td>Michael Schachner</td>\n",
       "      <td>@wineschach</td>\n",
       "      <td>Tandem 2011 Ars In Vitro Tempranillo-Merlot (N...</td>\n",
       "      <td>Tempranillo-Merlot</td>\n",
       "      <td>Tandem</td>\n",
       "    </tr>\n",
       "    <tr>\n",
       "      <th>6</th>\n",
       "      <td>6</td>\n",
       "      <td>Italy</td>\n",
       "      <td>Here's a bright, informal red that opens with ...</td>\n",
       "      <td>Belsito</td>\n",
       "      <td>87</td>\n",
       "      <td>16.0</td>\n",
       "      <td>Sicily &amp; Sardinia</td>\n",
       "      <td>Vittoria</td>\n",
       "      <td>NaN</td>\n",
       "      <td>Kerin O’Keefe</td>\n",
       "      <td>@kerinokeefe</td>\n",
       "      <td>Terre di Giurfo 2013 Belsito Frappato (Vittoria)</td>\n",
       "      <td>Frappato</td>\n",
       "      <td>Terre di Giurfo</td>\n",
       "    </tr>\n",
       "    <tr>\n",
       "      <th>7</th>\n",
       "      <td>7</td>\n",
       "      <td>France</td>\n",
       "      <td>This dry and restrained wine offers spice in p...</td>\n",
       "      <td>NaN</td>\n",
       "      <td>87</td>\n",
       "      <td>24.0</td>\n",
       "      <td>Alsace</td>\n",
       "      <td>Alsace</td>\n",
       "      <td>NaN</td>\n",
       "      <td>Roger Voss</td>\n",
       "      <td>@vossroger</td>\n",
       "      <td>Trimbach 2012 Gewurztraminer (Alsace)</td>\n",
       "      <td>Gewürztraminer</td>\n",
       "      <td>Trimbach</td>\n",
       "    </tr>\n",
       "    <tr>\n",
       "      <th>8</th>\n",
       "      <td>8</td>\n",
       "      <td>Germany</td>\n",
       "      <td>Savory dried thyme notes accent sunnier flavor...</td>\n",
       "      <td>Shine</td>\n",
       "      <td>87</td>\n",
       "      <td>12.0</td>\n",
       "      <td>Rheinhessen</td>\n",
       "      <td>NaN</td>\n",
       "      <td>NaN</td>\n",
       "      <td>Anna Lee C. Iijima</td>\n",
       "      <td>NaN</td>\n",
       "      <td>Heinz Eifel 2013 Shine Gewürztraminer (Rheinhe...</td>\n",
       "      <td>Gewürztraminer</td>\n",
       "      <td>Heinz Eifel</td>\n",
       "    </tr>\n",
       "    <tr>\n",
       "      <th>9</th>\n",
       "      <td>9</td>\n",
       "      <td>France</td>\n",
       "      <td>This has great depth of flavor with its fresh ...</td>\n",
       "      <td>Les Natures</td>\n",
       "      <td>87</td>\n",
       "      <td>27.0</td>\n",
       "      <td>Alsace</td>\n",
       "      <td>Alsace</td>\n",
       "      <td>NaN</td>\n",
       "      <td>Roger Voss</td>\n",
       "      <td>@vossroger</td>\n",
       "      <td>Jean-Baptiste Adam 2012 Les Natures Pinot Gris...</td>\n",
       "      <td>Pinot Gris</td>\n",
       "      <td>Jean-Baptiste Adam</td>\n",
       "    </tr>\n",
       "  </tbody>\n",
       "</table>\n",
       "</div>"
      ],
      "text/plain": [
       "   Unnamed: 0   country                                        description  \\\n",
       "0           0     Italy  Aromas include tropical fruit, broom, brimston...   \n",
       "1           1  Portugal  This is ripe and fruity, a wine that is smooth...   \n",
       "2           2        US  Tart and snappy, the flavors of lime flesh and...   \n",
       "3           3        US  Pineapple rind, lemon pith and orange blossom ...   \n",
       "4           4        US  Much like the regular bottling from 2012, this...   \n",
       "5           5     Spain  Blackberry and raspberry aromas show a typical...   \n",
       "6           6     Italy  Here's a bright, informal red that opens with ...   \n",
       "7           7    France  This dry and restrained wine offers spice in p...   \n",
       "8           8   Germany  Savory dried thyme notes accent sunnier flavor...   \n",
       "9           9    France  This has great depth of flavor with its fresh ...   \n",
       "\n",
       "                          designation  points  price           province  \\\n",
       "0                        Vulkà Bianco      87    NaN  Sicily & Sardinia   \n",
       "1                            Avidagos      87   15.0              Douro   \n",
       "2                                 NaN      87   14.0             Oregon   \n",
       "3                Reserve Late Harvest      87   13.0           Michigan   \n",
       "4  Vintner's Reserve Wild Child Block      87   65.0             Oregon   \n",
       "5                        Ars In Vitro      87   15.0     Northern Spain   \n",
       "6                             Belsito      87   16.0  Sicily & Sardinia   \n",
       "7                                 NaN      87   24.0             Alsace   \n",
       "8                               Shine      87   12.0        Rheinhessen   \n",
       "9                         Les Natures      87   27.0             Alsace   \n",
       "\n",
       "              region_1           region_2         taster_name  \\\n",
       "0                 Etna                NaN       Kerin O’Keefe   \n",
       "1                  NaN                NaN          Roger Voss   \n",
       "2    Willamette Valley  Willamette Valley        Paul Gregutt   \n",
       "3  Lake Michigan Shore                NaN  Alexander Peartree   \n",
       "4    Willamette Valley  Willamette Valley        Paul Gregutt   \n",
       "5              Navarra                NaN   Michael Schachner   \n",
       "6             Vittoria                NaN       Kerin O’Keefe   \n",
       "7               Alsace                NaN          Roger Voss   \n",
       "8                  NaN                NaN  Anna Lee C. Iijima   \n",
       "9               Alsace                NaN          Roger Voss   \n",
       "\n",
       "  taster_twitter_handle                                              title  \\\n",
       "0          @kerinokeefe                  Nicosia 2013 Vulkà Bianco  (Etna)   \n",
       "1            @vossroger      Quinta dos Avidagos 2011 Avidagos Red (Douro)   \n",
       "2           @paulgwine       Rainstorm 2013 Pinot Gris (Willamette Valley)   \n",
       "3                   NaN  St. Julian 2013 Reserve Late Harvest Riesling ...   \n",
       "4           @paulgwine   Sweet Cheeks 2012 Vintner's Reserve Wild Child...   \n",
       "5           @wineschach  Tandem 2011 Ars In Vitro Tempranillo-Merlot (N...   \n",
       "6          @kerinokeefe   Terre di Giurfo 2013 Belsito Frappato (Vittoria)   \n",
       "7            @vossroger              Trimbach 2012 Gewurztraminer (Alsace)   \n",
       "8                   NaN  Heinz Eifel 2013 Shine Gewürztraminer (Rheinhe...   \n",
       "9            @vossroger  Jean-Baptiste Adam 2012 Les Natures Pinot Gris...   \n",
       "\n",
       "              variety               winery  \n",
       "0         White Blend              Nicosia  \n",
       "1      Portuguese Red  Quinta dos Avidagos  \n",
       "2          Pinot Gris            Rainstorm  \n",
       "3            Riesling           St. Julian  \n",
       "4          Pinot Noir         Sweet Cheeks  \n",
       "5  Tempranillo-Merlot               Tandem  \n",
       "6            Frappato      Terre di Giurfo  \n",
       "7      Gewürztraminer             Trimbach  \n",
       "8      Gewürztraminer          Heinz Eifel  \n",
       "9          Pinot Gris   Jean-Baptiste Adam  "
      ]
     },
     "execution_count": 2,
     "metadata": {},
     "output_type": "execute_result"
    }
   ],
   "source": [
    "#load dataset\n",
    "dat = pd.read_csv('wine.csv')\n",
    "dat.head(10)"
   ]
  },
  {
   "cell_type": "code",
   "execution_count": 3,
   "metadata": {},
   "outputs": [
    {
     "data": {
      "text/plain": [
       "(129971, 14)"
      ]
     },
     "execution_count": 3,
     "metadata": {},
     "output_type": "execute_result"
    }
   ],
   "source": [
    "dat.shape"
   ]
  },
  {
   "cell_type": "code",
   "execution_count": 4,
   "metadata": {},
   "outputs": [
    {
     "data": {
      "text/plain": [
       "(129971, 7)"
      ]
     },
     "execution_count": 4,
     "metadata": {},
     "output_type": "execute_result"
    }
   ],
   "source": [
    "# taking only relevant columns\n",
    "dat = dat.loc[:,['description','designation','country','title','variety','price','winery']]\n",
    "dat.shape\n"
   ]
  },
  {
   "cell_type": "code",
   "execution_count": 5,
   "metadata": {},
   "outputs": [
    {
     "data": {
      "text/plain": [
       "description    False\n",
       "designation     True\n",
       "country         True\n",
       "title          False\n",
       "variety         True\n",
       "price           True\n",
       "winery         False\n",
       "dtype: bool"
      ]
     },
     "execution_count": 5,
     "metadata": {},
     "output_type": "execute_result"
    }
   ],
   "source": [
    "dat.isnull().any()\n"
   ]
  },
  {
   "cell_type": "code",
   "execution_count": 6,
   "metadata": {},
   "outputs": [
    {
     "name": "stdout",
     "output_type": "stream",
     "text": [
      "percentage of data points where designation is null is 28.825661109016625\n",
      "percentage of data points where country is null is 0.04847235152457087\n",
      "percentage of data points where variety is null is 0.0007694024051519185\n",
      "percentage of data points where price is null is 6.921544036746659\n"
     ]
    }
   ],
   "source": [
    "#finding count of null values in each columns\n",
    "desi_count=dat.loc[dat['designation'].isnull()]\n",
    "x=desi_count.shape[0]\n",
    "x=x/129971*100\n",
    "print('percentage of data points where designation is null is',x)\n",
    "country_count=dat.loc[dat['country'].isnull()]\n",
    "x=country_count.shape[0]\n",
    "x=x/129971*100\n",
    "print('percentage of data points where country is null is',x)\n",
    "variety_count=dat.loc[dat['variety'].isnull()]\n",
    "x=variety_count.shape[0]\n",
    "x=x/129971*100\n",
    "print('percentage of data points where variety is null is',x)\n",
    "price_count=dat.loc[dat['price'].isnull()]\n",
    "x=price_count.shape[0]\n",
    "x=x/129971*100\n",
    "print('percentage of data points where price is null is',x)"
   ]
  },
  {
   "cell_type": "code",
   "execution_count": 7,
   "metadata": {},
   "outputs": [
    {
     "name": "stdout",
     "output_type": "stream",
     "text": [
      "percentage of data remained after eliminating duplicates is  71.17433889098336\n"
     ]
    }
   ],
   "source": [
    "#eliminate null values\n",
    "dat=dat.loc[~dat['designation'].isnull()]\n",
    "x=dat.shape[0]\n",
    "x=x/129971*100\n",
    "print('percentage of data remained after eliminating duplicates is ',x)\n"
   ]
  },
  {
   "cell_type": "code",
   "execution_count": 8,
   "metadata": {},
   "outputs": [
    {
     "name": "stdout",
     "output_type": "stream",
     "text": [
      "percentage of data remained after eliminating duplicates is  71.13432996591548\n"
     ]
    }
   ],
   "source": [
    "dat=dat.loc[~dat['country'].isnull()]\n",
    "x=dat.shape[0]\n",
    "x=x/129971*100\n",
    "print('percentage of data remained after eliminating duplicates is ',x)\n"
   ]
  },
  {
   "cell_type": "code",
   "execution_count": 9,
   "metadata": {},
   "outputs": [
    {
     "name": "stdout",
     "output_type": "stream",
     "text": [
      "percentage of data remained after eliminating duplicates is  66.28247839902748\n"
     ]
    }
   ],
   "source": [
    "dat=dat.loc[~dat['price'].isnull()]\n",
    "x=dat.shape[0]\n",
    "x=x/129971*100\n",
    "print('percentage of data remained after eliminating duplicates is ',x)\n"
   ]
  },
  {
   "cell_type": "code",
   "execution_count": 10,
   "metadata": {},
   "outputs": [
    {
     "name": "stdout",
     "output_type": "stream",
     "text": [
      "percentage of data remained after eliminating duplicates is  66.28247839902748\n"
     ]
    }
   ],
   "source": [
    "dat=dat.loc[~dat['variety'].isnull()]\n",
    "x=dat.shape[0]\n",
    "x=x/129971*100\n",
    "print('percentage of data remained after eliminating duplicates is ',x)\n"
   ]
  },
  {
   "cell_type": "code",
   "execution_count": 11,
   "metadata": {},
   "outputs": [
    {
     "data": {
      "text/html": [
       "<div>\n",
       "<style>\n",
       "    .dataframe thead tr:only-child th {\n",
       "        text-align: right;\n",
       "    }\n",
       "\n",
       "    .dataframe thead th {\n",
       "        text-align: left;\n",
       "    }\n",
       "\n",
       "    .dataframe tbody tr th {\n",
       "        vertical-align: top;\n",
       "    }\n",
       "</style>\n",
       "<table border=\"1\" class=\"dataframe\">\n",
       "  <thead>\n",
       "    <tr style=\"text-align: right;\">\n",
       "      <th></th>\n",
       "      <th>description</th>\n",
       "      <th>designation</th>\n",
       "      <th>country</th>\n",
       "      <th>title</th>\n",
       "      <th>variety</th>\n",
       "      <th>price</th>\n",
       "      <th>winery</th>\n",
       "    </tr>\n",
       "  </thead>\n",
       "  <tbody>\n",
       "    <tr>\n",
       "      <th>1</th>\n",
       "      <td>This is ripe and fruity, a wine that is smooth...</td>\n",
       "      <td>Avidagos</td>\n",
       "      <td>Portugal</td>\n",
       "      <td>Quinta dos Avidagos 2011 Avidagos Red (Douro)</td>\n",
       "      <td>Portuguese Red</td>\n",
       "      <td>15.0</td>\n",
       "      <td>Quinta dos Avidagos</td>\n",
       "    </tr>\n",
       "    <tr>\n",
       "      <th>3</th>\n",
       "      <td>Pineapple rind, lemon pith and orange blossom ...</td>\n",
       "      <td>Reserve Late Harvest</td>\n",
       "      <td>US</td>\n",
       "      <td>St. Julian 2013 Reserve Late Harvest Riesling ...</td>\n",
       "      <td>Riesling</td>\n",
       "      <td>13.0</td>\n",
       "      <td>St. Julian</td>\n",
       "    </tr>\n",
       "    <tr>\n",
       "      <th>4</th>\n",
       "      <td>Much like the regular bottling from 2012, this...</td>\n",
       "      <td>Vintner's Reserve Wild Child Block</td>\n",
       "      <td>US</td>\n",
       "      <td>Sweet Cheeks 2012 Vintner's Reserve Wild Child...</td>\n",
       "      <td>Pinot Noir</td>\n",
       "      <td>65.0</td>\n",
       "      <td>Sweet Cheeks</td>\n",
       "    </tr>\n",
       "    <tr>\n",
       "      <th>5</th>\n",
       "      <td>Blackberry and raspberry aromas show a typical...</td>\n",
       "      <td>Ars In Vitro</td>\n",
       "      <td>Spain</td>\n",
       "      <td>Tandem 2011 Ars In Vitro Tempranillo-Merlot (N...</td>\n",
       "      <td>Tempranillo-Merlot</td>\n",
       "      <td>15.0</td>\n",
       "      <td>Tandem</td>\n",
       "    </tr>\n",
       "    <tr>\n",
       "      <th>6</th>\n",
       "      <td>Here's a bright, informal red that opens with ...</td>\n",
       "      <td>Belsito</td>\n",
       "      <td>Italy</td>\n",
       "      <td>Terre di Giurfo 2013 Belsito Frappato (Vittoria)</td>\n",
       "      <td>Frappato</td>\n",
       "      <td>16.0</td>\n",
       "      <td>Terre di Giurfo</td>\n",
       "    </tr>\n",
       "    <tr>\n",
       "      <th>8</th>\n",
       "      <td>Savory dried thyme notes accent sunnier flavor...</td>\n",
       "      <td>Shine</td>\n",
       "      <td>Germany</td>\n",
       "      <td>Heinz Eifel 2013 Shine Gewürztraminer (Rheinhe...</td>\n",
       "      <td>Gewürztraminer</td>\n",
       "      <td>12.0</td>\n",
       "      <td>Heinz Eifel</td>\n",
       "    </tr>\n",
       "    <tr>\n",
       "      <th>9</th>\n",
       "      <td>This has great depth of flavor with its fresh ...</td>\n",
       "      <td>Les Natures</td>\n",
       "      <td>France</td>\n",
       "      <td>Jean-Baptiste Adam 2012 Les Natures Pinot Gris...</td>\n",
       "      <td>Pinot Gris</td>\n",
       "      <td>27.0</td>\n",
       "      <td>Jean-Baptiste Adam</td>\n",
       "    </tr>\n",
       "    <tr>\n",
       "      <th>10</th>\n",
       "      <td>Soft, supple plum envelopes an oaky structure ...</td>\n",
       "      <td>Mountain Cuvée</td>\n",
       "      <td>US</td>\n",
       "      <td>Kirkland Signature 2011 Mountain Cuvée Caberne...</td>\n",
       "      <td>Cabernet Sauvignon</td>\n",
       "      <td>19.0</td>\n",
       "      <td>Kirkland Signature</td>\n",
       "    </tr>\n",
       "    <tr>\n",
       "      <th>15</th>\n",
       "      <td>Zesty orange peels and apple notes abound in t...</td>\n",
       "      <td>Devon</td>\n",
       "      <td>Germany</td>\n",
       "      <td>Richard Böcking 2013 Devon Riesling (Mosel)</td>\n",
       "      <td>Riesling</td>\n",
       "      <td>24.0</td>\n",
       "      <td>Richard Böcking</td>\n",
       "    </tr>\n",
       "    <tr>\n",
       "      <th>16</th>\n",
       "      <td>Baked plum, molasses, balsamic vinegar and che...</td>\n",
       "      <td>Felix</td>\n",
       "      <td>Argentina</td>\n",
       "      <td>Felix Lavaque 2010 Felix Malbec (Cafayate)</td>\n",
       "      <td>Malbec</td>\n",
       "      <td>30.0</td>\n",
       "      <td>Felix Lavaque</td>\n",
       "    </tr>\n",
       "  </tbody>\n",
       "</table>\n",
       "</div>"
      ],
      "text/plain": [
       "                                          description  \\\n",
       "1   This is ripe and fruity, a wine that is smooth...   \n",
       "3   Pineapple rind, lemon pith and orange blossom ...   \n",
       "4   Much like the regular bottling from 2012, this...   \n",
       "5   Blackberry and raspberry aromas show a typical...   \n",
       "6   Here's a bright, informal red that opens with ...   \n",
       "8   Savory dried thyme notes accent sunnier flavor...   \n",
       "9   This has great depth of flavor with its fresh ...   \n",
       "10  Soft, supple plum envelopes an oaky structure ...   \n",
       "15  Zesty orange peels and apple notes abound in t...   \n",
       "16  Baked plum, molasses, balsamic vinegar and che...   \n",
       "\n",
       "                           designation    country  \\\n",
       "1                             Avidagos   Portugal   \n",
       "3                 Reserve Late Harvest         US   \n",
       "4   Vintner's Reserve Wild Child Block         US   \n",
       "5                         Ars In Vitro      Spain   \n",
       "6                              Belsito      Italy   \n",
       "8                                Shine    Germany   \n",
       "9                          Les Natures     France   \n",
       "10                      Mountain Cuvée         US   \n",
       "15                               Devon    Germany   \n",
       "16                               Felix  Argentina   \n",
       "\n",
       "                                                title             variety  \\\n",
       "1       Quinta dos Avidagos 2011 Avidagos Red (Douro)      Portuguese Red   \n",
       "3   St. Julian 2013 Reserve Late Harvest Riesling ...            Riesling   \n",
       "4   Sweet Cheeks 2012 Vintner's Reserve Wild Child...          Pinot Noir   \n",
       "5   Tandem 2011 Ars In Vitro Tempranillo-Merlot (N...  Tempranillo-Merlot   \n",
       "6    Terre di Giurfo 2013 Belsito Frappato (Vittoria)            Frappato   \n",
       "8   Heinz Eifel 2013 Shine Gewürztraminer (Rheinhe...      Gewürztraminer   \n",
       "9   Jean-Baptiste Adam 2012 Les Natures Pinot Gris...          Pinot Gris   \n",
       "10  Kirkland Signature 2011 Mountain Cuvée Caberne...  Cabernet Sauvignon   \n",
       "15        Richard Böcking 2013 Devon Riesling (Mosel)            Riesling   \n",
       "16         Felix Lavaque 2010 Felix Malbec (Cafayate)              Malbec   \n",
       "\n",
       "    price               winery  \n",
       "1    15.0  Quinta dos Avidagos  \n",
       "3    13.0           St. Julian  \n",
       "4    65.0         Sweet Cheeks  \n",
       "5    15.0               Tandem  \n",
       "6    16.0      Terre di Giurfo  \n",
       "8    12.0          Heinz Eifel  \n",
       "9    27.0   Jean-Baptiste Adam  \n",
       "10   19.0   Kirkland Signature  \n",
       "15   24.0      Richard Böcking  \n",
       "16   30.0        Felix Lavaque  "
      ]
     },
     "execution_count": 11,
     "metadata": {},
     "output_type": "execute_result"
    }
   ],
   "source": [
    "dat.head(10)"
   ]
  },
  {
   "cell_type": "code",
   "execution_count": 12,
   "metadata": {},
   "outputs": [
    {
     "data": {
      "text/plain": [
       "True"
      ]
     },
     "execution_count": 12,
     "metadata": {},
     "output_type": "execute_result"
    }
   ],
   "source": [
    "#duplicate removal\n",
    "dat.duplicated().any()\n",
    "\n"
   ]
  },
  {
   "cell_type": "code",
   "execution_count": 13,
   "metadata": {},
   "outputs": [
    {
     "data": {
      "text/plain": [
       "1     False\n",
       "3     False\n",
       "4     False\n",
       "5     False\n",
       "6     False\n",
       "8     False\n",
       "9     False\n",
       "10    False\n",
       "15    False\n",
       "16    False\n",
       "dtype: bool"
      ]
     },
     "execution_count": 13,
     "metadata": {},
     "output_type": "execute_result"
    }
   ],
   "source": [
    "dup_des = dat.duplicated('description')\n",
    "dup_des.head(10)\n",
    "\n"
   ]
  },
  {
   "cell_type": "code",
   "execution_count": 14,
   "metadata": {},
   "outputs": [
    {
     "data": {
      "text/plain": [
       "(79477, 7)"
      ]
     },
     "execution_count": 14,
     "metadata": {},
     "output_type": "execute_result"
    }
   ],
   "source": [
    "dat=dat.loc[~dat['description'].duplicated()]\n",
    "dat.head(10)\n",
    "dat.shape"
   ]
  },
  {
   "cell_type": "code",
   "execution_count": 15,
   "metadata": {},
   "outputs": [
    {
     "data": {
      "text/plain": [
       "1     This is ripe and fruity, a wine that is smooth...\n",
       "3     Pineapple rind, lemon pith and orange blossom ...\n",
       "4     Much like the regular bottling from 2012, this...\n",
       "5     Blackberry and raspberry aromas show a typical...\n",
       "6     Here's a bright, informal red that opens with ...\n",
       "8     Savory dried thyme notes accent sunnier flavor...\n",
       "9     This has great depth of flavor with its fresh ...\n",
       "10    Soft, supple plum envelopes an oaky structure ...\n",
       "15    Zesty orange peels and apple notes abound in t...\n",
       "16    Baked plum, molasses, balsamic vinegar and che...\n",
       "Name: description, dtype: object"
      ]
     },
     "execution_count": 15,
     "metadata": {},
     "output_type": "execute_result"
    }
   ],
   "source": [
    "\n",
    "dat['description'].head(10)\n"
   ]
  },
  {
   "cell_type": "code",
   "execution_count": 16,
   "metadata": {
    "scrolled": false
   },
   "outputs": [
    {
     "data": {
      "text/plain": [
       "(78708, 7)"
      ]
     },
     "execution_count": 16,
     "metadata": {},
     "output_type": "execute_result"
    }
   ],
   "source": [
    "dup_tit=dat['title'].duplicated()\n",
    "dup_tit.head(10)\n",
    "dat=dat.loc[~dat['title'].duplicated()]\n",
    "dat.shape\n",
    "\n",
    "\n",
    "\n"
   ]
  },
  {
   "cell_type": "code",
   "execution_count": 17,
   "metadata": {},
   "outputs": [
    {
     "data": {
      "text/plain": [
       "1         Quinta dos Avidagos 2011 Avidagos Red (Douro)\n",
       "3     St. Julian 2013 Reserve Late Harvest Riesling ...\n",
       "4     Sweet Cheeks 2012 Vintner's Reserve Wild Child...\n",
       "5     Tandem 2011 Ars In Vitro Tempranillo-Merlot (N...\n",
       "6      Terre di Giurfo 2013 Belsito Frappato (Vittoria)\n",
       "8     Heinz Eifel 2013 Shine Gewürztraminer (Rheinhe...\n",
       "9     Jean-Baptiste Adam 2012 Les Natures Pinot Gris...\n",
       "10    Kirkland Signature 2011 Mountain Cuvée Caberne...\n",
       "15          Richard Böcking 2013 Devon Riesling (Mosel)\n",
       "16           Felix Lavaque 2010 Felix Malbec (Cafayate)\n",
       "Name: title, dtype: object"
      ]
     },
     "execution_count": 17,
     "metadata": {},
     "output_type": "execute_result"
    }
   ],
   "source": [
    "dat['title'].head(10)"
   ]
  },
  {
   "cell_type": "code",
   "execution_count": 18,
   "metadata": {},
   "outputs": [
    {
     "data": {
      "text/plain": [
       "(78708, 7)"
      ]
     },
     "execution_count": 18,
     "metadata": {},
     "output_type": "execute_result"
    }
   ],
   "source": [
    "dat.shape"
   ]
  },
  {
   "cell_type": "code",
   "execution_count": 19,
   "metadata": {},
   "outputs": [
    {
     "data": {
      "text/plain": [
       "Prunelard                 1\n",
       "Molinara                  1\n",
       "Viura-Verdejo             1\n",
       "Ramisco                   1\n",
       "Rebo                      1\n",
       "Pinot Blanc-Pinot Noir    1\n",
       "Francisa                  1\n",
       "Other                     1\n",
       "Riesling-Chardonnay       1\n",
       "Madeira Blend             1\n",
       "Name: variety, dtype: int64"
      ]
     },
     "execution_count": 19,
     "metadata": {},
     "output_type": "execute_result"
    }
   ],
   "source": [
    "dat.sort_values(by=['variety'])\n",
    "val_count=dat['variety'].value_counts()\n",
    "val_count.tail(10)\n",
    "\n",
    "\n",
    "\n"
   ]
  },
  {
   "cell_type": "code",
   "execution_count": 20,
   "metadata": {},
   "outputs": [
    {
     "data": {
      "text/plain": [
       "count          78708\n",
       "unique           630\n",
       "top       Pinot Noir\n",
       "freq            8779\n",
       "Name: variety, dtype: object"
      ]
     },
     "execution_count": 20,
     "metadata": {},
     "output_type": "execute_result"
    }
   ],
   "source": [
    "dat['variety'].describe()"
   ]
  },
  {
   "cell_type": "code",
   "execution_count": 21,
   "metadata": {},
   "outputs": [],
   "source": [
    "dat = dat.groupby('variety').filter(lambda x: len(x) >70)\n",
    "\n"
   ]
  },
  {
   "cell_type": "code",
   "execution_count": 22,
   "metadata": {},
   "outputs": [
    {
     "data": {
      "text/plain": [
       "count          73305\n",
       "unique            80\n",
       "top       Pinot Noir\n",
       "freq            8779\n",
       "Name: variety, dtype: object"
      ]
     },
     "execution_count": 22,
     "metadata": {},
     "output_type": "execute_result"
    }
   ],
   "source": [
    "dat['variety'].describe()"
   ]
  },
  {
   "cell_type": "code",
   "execution_count": 23,
   "metadata": {},
   "outputs": [
    {
     "name": "stdout",
     "output_type": "stream",
     "text": [
      "          variety\n",
      "1  Portuguese Red\n",
      "3        Riesling\n",
      "4      Pinot Noir\n",
      "8  Gewürztraminer\n",
      "9      Pinot Gris\n",
      "Index(['description', 'designation', 'country', 'title', 'price', 'winery'], dtype='object')\n"
     ]
    }
   ],
   "source": [
    "dat1= pd.DataFrame(dat['variety'])\n",
    "dat1.columns = ['variety']\n",
    "dat=dat.drop('variety',axis=1)\n",
    "print(dat1.head())\n",
    "print(dat.columns)"
   ]
  },
  {
   "cell_type": "code",
   "execution_count": 24,
   "metadata": {},
   "outputs": [
    {
     "data": {
      "text/plain": [
       "(73305, 1)"
      ]
     },
     "execution_count": 24,
     "metadata": {},
     "output_type": "execute_result"
    }
   ],
   "source": [
    "dat1.shape\n"
   ]
  },
  {
   "cell_type": "code",
   "execution_count": 25,
   "metadata": {},
   "outputs": [
    {
     "data": {
      "text/plain": [
       "Counter({'Aglianico': 200,\n",
       "         'Albariño': 199,\n",
       "         'Alvarinho': 74,\n",
       "         'Barbera': 357,\n",
       "         'Blaufränkisch': 127,\n",
       "         'Bordeaux-style Red Blend': 2692,\n",
       "         'Bordeaux-style White Blend': 226,\n",
       "         'Cabernet Franc': 725,\n",
       "         'Cabernet Sauvignon': 5350,\n",
       "         'Cabernet Sauvignon-Merlot': 82,\n",
       "         'Cabernet Sauvignon-Syrah': 81,\n",
       "         'Carmenère': 458,\n",
       "         'Champagne Blend': 953,\n",
       "         'Chardonnay': 6757,\n",
       "         'Chenin Blanc': 345,\n",
       "         'Corvina, Rondinella, Molinara': 296,\n",
       "         'Dolcetto': 83,\n",
       "         'G-S-M': 138,\n",
       "         'Gamay': 537,\n",
       "         'Garganega': 160,\n",
       "         'Garnacha': 234,\n",
       "         'Gewürztraminer': 612,\n",
       "         'Glera': 494,\n",
       "         'Grenache': 439,\n",
       "         'Grenache Blanc': 72,\n",
       "         'Grüner Veltliner': 896,\n",
       "         'Malbec': 1813,\n",
       "         'Melon': 213,\n",
       "         'Mencía': 110,\n",
       "         'Meritage': 125,\n",
       "         'Merlot': 1491,\n",
       "         'Monastrell': 100,\n",
       "         'Montepulciano': 136,\n",
       "         'Moscato': 169,\n",
       "         'Mourvèdre': 135,\n",
       "         'Muscat': 96,\n",
       "         'Nebbiolo': 1708,\n",
       "         'Nerello Mascalese': 95,\n",
       "         \"Nero d'Avola\": 216,\n",
       "         'Petit Verdot': 159,\n",
       "         'Petite Sirah': 390,\n",
       "         'Pinot Bianco': 82,\n",
       "         'Pinot Blanc': 190,\n",
       "         'Pinot Grigio': 339,\n",
       "         'Pinot Gris': 703,\n",
       "         'Pinot Nero': 102,\n",
       "         'Pinot Noir': 8779,\n",
       "         'Port': 454,\n",
       "         'Portuguese Red': 1892,\n",
       "         'Portuguese White': 841,\n",
       "         'Primitivo': 133,\n",
       "         'Prosecco': 162,\n",
       "         'Red Blend': 6503,\n",
       "         'Rhône-style Red Blend': 1071,\n",
       "         'Rhône-style White Blend': 330,\n",
       "         'Riesling': 3857,\n",
       "         'Rosé': 2086,\n",
       "         'Roussanne': 85,\n",
       "         'Sangiovese': 1248,\n",
       "         'Sangiovese Grosso': 229,\n",
       "         'Sauvignon': 147,\n",
       "         'Sauvignon Blanc': 2496,\n",
       "         'Sherry': 83,\n",
       "         'Shiraz': 531,\n",
       "         'Sparkling Blend': 1565,\n",
       "         'Syrah': 2785,\n",
       "         'Tannat': 120,\n",
       "         'Tempranillo': 1312,\n",
       "         'Tempranillo Blend': 525,\n",
       "         'Tinta de Toro': 130,\n",
       "         'Torrontés': 157,\n",
       "         'Touriga Nacional': 102,\n",
       "         'Turbiana': 96,\n",
       "         'Verdejo': 122,\n",
       "         'Verdicchio': 118,\n",
       "         'Vermentino': 130,\n",
       "         'Viognier': 507,\n",
       "         'White Blend': 1742,\n",
       "         'Zinfandel': 1901,\n",
       "         'Zweigelt': 107})"
      ]
     },
     "execution_count": 25,
     "metadata": {},
     "output_type": "execute_result"
    }
   ],
   "source": [
    "Counter(dat1['variety'])"
   ]
  },
  {
   "cell_type": "code",
   "execution_count": 26,
   "metadata": {},
   "outputs": [
    {
     "data": {
      "text/plain": [
       "Counter({0: 200,\n",
       "         1: 199,\n",
       "         2: 74,\n",
       "         3: 357,\n",
       "         4: 127,\n",
       "         5: 2692,\n",
       "         6: 226,\n",
       "         7: 725,\n",
       "         8: 5350,\n",
       "         9: 82,\n",
       "         10: 81,\n",
       "         11: 458,\n",
       "         12: 953,\n",
       "         13: 6757,\n",
       "         14: 345,\n",
       "         15: 296,\n",
       "         16: 83,\n",
       "         17: 138,\n",
       "         18: 537,\n",
       "         19: 160,\n",
       "         20: 234,\n",
       "         21: 612,\n",
       "         22: 494,\n",
       "         23: 439,\n",
       "         24: 72,\n",
       "         25: 896,\n",
       "         26: 1813,\n",
       "         27: 213,\n",
       "         28: 110,\n",
       "         29: 125,\n",
       "         30: 1491,\n",
       "         31: 100,\n",
       "         32: 136,\n",
       "         33: 169,\n",
       "         34: 135,\n",
       "         35: 96,\n",
       "         36: 1708,\n",
       "         37: 95,\n",
       "         38: 216,\n",
       "         39: 159,\n",
       "         40: 390,\n",
       "         41: 82,\n",
       "         42: 190,\n",
       "         43: 339,\n",
       "         44: 703,\n",
       "         45: 102,\n",
       "         46: 8779,\n",
       "         47: 454,\n",
       "         48: 1892,\n",
       "         49: 841,\n",
       "         50: 133,\n",
       "         51: 162,\n",
       "         52: 6503,\n",
       "         53: 1071,\n",
       "         54: 330,\n",
       "         55: 3857,\n",
       "         56: 2086,\n",
       "         57: 85,\n",
       "         58: 1248,\n",
       "         59: 229,\n",
       "         60: 147,\n",
       "         61: 2496,\n",
       "         62: 83,\n",
       "         63: 531,\n",
       "         64: 1565,\n",
       "         65: 2785,\n",
       "         66: 120,\n",
       "         67: 1312,\n",
       "         68: 525,\n",
       "         69: 130,\n",
       "         70: 157,\n",
       "         71: 102,\n",
       "         72: 96,\n",
       "         73: 122,\n",
       "         74: 118,\n",
       "         75: 130,\n",
       "         76: 507,\n",
       "         77: 1742,\n",
       "         78: 1901,\n",
       "         79: 107})"
      ]
     },
     "execution_count": 26,
     "metadata": {},
     "output_type": "execute_result"
    }
   ],
   "source": [
    "dat1['variety'] = dat1['variety'].astype('category')\n",
    "categ_col = dat1.select_dtypes(['category']).columns\n",
    "dat1[categ_col] = dat1[categ_col].apply(lambda x: x.cat.codes)\n",
    "Counter(dat1['variety'])"
   ]
  },
  {
   "cell_type": "code",
   "execution_count": 27,
   "metadata": {},
   "outputs": [
    {
     "data": {
      "text/plain": [
       "(73305, 6)"
      ]
     },
     "execution_count": 27,
     "metadata": {},
     "output_type": "execute_result"
    }
   ],
   "source": [
    "dat.shape"
   ]
  },
  {
   "cell_type": "code",
   "execution_count": 28,
   "metadata": {},
   "outputs": [
    {
     "name": "stdout",
     "output_type": "stream",
     "text": [
      "list of stop words: {'by', 'me', 'had', 'he', 'too', 'was', 'hers', 'from', 'all', 'some', 'd', 'him', 't', 'off', 'what', 'through', 'under', 'will', \"haven't\", 'of', 'can', 'don', 'own', 'out', 'if', \"weren't\", 'this', 'aren', 'do', 'why', 'didn', \"wouldn't\", 'these', 'doesn', 'them', 'once', 'because', 'll', 'so', 'which', 'or', \"needn't\", 'about', 'does', 'they', 'nor', 'she', 'my', 'not', \"didn't\", \"won't\", 'your', 'after', 'the', 'themselves', 'myself', 'is', 'did', 'yourselves', 'below', 'their', 'down', 'been', 'wasn', 'as', 'i', 'being', \"she's\", 'again', 'you', 'how', 'm', 'just', 'most', 'during', 've', 'weren', 'himself', 'needn', 'have', 'yours', 'o', \"you'll\", 'ourselves', \"mustn't\", \"couldn't\", 'above', 'doing', \"shan't\", 'more', 'those', 'here', \"you're\", 'hasn', 'but', 'yourself', \"shouldn't\", 'were', \"don't\", 'where', 'there', 'very', 'now', 'his', 'wouldn', 'no', 'with', 'both', 'a', 'only', 's', 'ain', \"hadn't\", 'whom', \"aren't\", 'it', 'few', 'ma', \"wasn't\", 'shouldn', 'our', 'am', 'has', 'any', 'should', 'over', 'who', 'be', 'when', 'each', \"should've\", 'between', 'her', 'same', 'before', \"you've\", 'for', 'herself', 'shan', 'theirs', 'having', 'are', 'an', 'and', 'while', 'mustn', 'y', 'to', 'then', \"that'll\", 'until', 're', 'haven', 'than', 'we', \"it's\", \"mightn't\", 'that', 'such', 'mightn', 'ours', 'its', \"isn't\", 'at', \"hasn't\", 'couldn', 'into', \"you'd\", 'other', 'on', 'won', 'in', 'isn', 'against', 'itself', 'further', 'hadn', \"doesn't\", 'up'}\n"
     ]
    }
   ],
   "source": [
    "stop_words = set(stopwords.words('english'))\n",
    "print ('list of stop words:', stop_words)\n",
    "\n",
    "def pre_process(text, index, column):\n",
    "    \n",
    "        string = \"\"\n",
    "        for words in text.split():\n",
    "            # remove the special chars like\"£$%@ etc\n",
    "            word = (\"\".join(s for s in words if s.isalnum()))\n",
    "            # Conver all letters to lower-case\n",
    "            word = word.lower()\n",
    "            # stop-word removal\n",
    "            if not word in stop_words:\n",
    "                string += word + \" \"\n",
    "        dat[column][index] = string\n",
    "\n",
    "   "
   ]
  },
  {
   "cell_type": "code",
   "execution_count": 29,
   "metadata": {},
   "outputs": [],
   "source": [
    "for index, row in dat.iterrows():\n",
    "    pre_process(row['description'], index, 'description')\n"
   ]
  },
  {
   "cell_type": "code",
   "execution_count": 30,
   "metadata": {},
   "outputs": [
    {
     "data": {
      "text/plain": [
       "1     ripe fruity wine smooth still structured firm ...\n",
       "3     pineapple rind lemon pith orange blossom start...\n",
       "4     much like regular bottling 2012 comes across r...\n",
       "8     savory dried thyme notes accent sunnier flavor...\n",
       "9     great depth flavor fresh apple pear fruits tou...\n",
       "10    soft supple plum envelopes oaky structure cabe...\n",
       "15    zesty orange peels apple notes abound sprightl...\n",
       "16    baked plum molasses balsamic vinegar cheesy oa...\n",
       "17    raw blackcherry aromas direct simple good juic...\n",
       "18    desiccated blackberry leather charred wood min...\n",
       "Name: description, dtype: object"
      ]
     },
     "execution_count": 30,
     "metadata": {},
     "output_type": "execute_result"
    }
   ],
   "source": [
    "dat['description'].head(10)"
   ]
  },
  {
   "cell_type": "code",
   "execution_count": 31,
   "metadata": {},
   "outputs": [],
   "source": [
    "X_train, X_test, y_train, y_test = train_test_split(dat,dat1,test_size=0.2)\n",
    "# split the train data into train and cross validation by maintaining same distribution of output varaible 'y_train' [stratify=y_train]\n",
    "X_train,X_cv, y_train, y_cv = train_test_split(X_train, y_train, test_size=0.2)\n"
   ]
  },
  {
   "cell_type": "code",
   "execution_count": 32,
   "metadata": {},
   "outputs": [
    {
     "name": "stdout",
     "output_type": "stream",
     "text": [
      "(46915, 6)\n",
      "(11729, 6)\n",
      "(14661, 6)\n"
     ]
    }
   ],
   "source": [
    "print(X_train.shape)\n",
    "print(X_cv.shape)\n",
    "print(X_test.shape)"
   ]
  },
  {
   "cell_type": "code",
   "execution_count": 33,
   "metadata": {},
   "outputs": [
    {
     "name": "stdout",
     "output_type": "stream",
     "text": [
      "(46915, 1)\n",
      "(11729, 1)\n",
      "(14661, 1)\n"
     ]
    }
   ],
   "source": [
    "print(y_train.shape)\n",
    "print(y_cv.shape)\n",
    "print(y_test.shape)"
   ]
  },
  {
   "cell_type": "code",
   "execution_count": 34,
   "metadata": {},
   "outputs": [],
   "source": [
    "vectorizer = CountVectorizer()\n",
    "train_description=vectorizer.fit(X_train['description'])\n",
    "vector1=vectorizer.transform(X_train['description'])\n",
    "test_description=vectorizer.transform(X_test['description'])\n",
    "\n",
    "cv_description=vectorizer.transform(X_cv['description'])\n",
    "\n"
   ]
  },
  {
   "cell_type": "code",
   "execution_count": 35,
   "metadata": {},
   "outputs": [
    {
     "data": {
      "text/plain": [
       "(46915, 30009)"
      ]
     },
     "execution_count": 35,
     "metadata": {},
     "output_type": "execute_result"
    }
   ],
   "source": [
    "vector1.shape"
   ]
  },
  {
   "cell_type": "code",
   "execution_count": 36,
   "metadata": {},
   "outputs": [
    {
     "data": {
      "text/plain": [
       "(14661, 30009)"
      ]
     },
     "execution_count": 36,
     "metadata": {},
     "output_type": "execute_result"
    }
   ],
   "source": [
    "test_description.shape"
   ]
  },
  {
   "cell_type": "code",
   "execution_count": 37,
   "metadata": {},
   "outputs": [
    {
     "data": {
      "text/plain": [
       "(11729, 30009)"
      ]
     },
     "execution_count": 37,
     "metadata": {},
     "output_type": "execute_result"
    }
   ],
   "source": [
    "cv_description.shape"
   ]
  },
  {
   "cell_type": "code",
   "execution_count": 38,
   "metadata": {},
   "outputs": [],
   "source": [
    "vector_tfidf=TfidfVectorizer()\n",
    "vector_desc_train=vector_tfidf.fit_transform(X_train['description'])\n",
    "vector_desc_test=vector_tfidf.transform(X_test['description'])\n",
    "vector_desc_cv=vector_tfidf.transform(X_cv['description'])"
   ]
  },
  {
   "cell_type": "code",
   "execution_count": 39,
   "metadata": {},
   "outputs": [
    {
     "data": {
      "text/plain": [
       "(46915, 30009)"
      ]
     },
     "execution_count": 39,
     "metadata": {},
     "output_type": "execute_result"
    }
   ],
   "source": [
    "vector_desc_train.shape"
   ]
  },
  {
   "cell_type": "code",
   "execution_count": 40,
   "metadata": {},
   "outputs": [
    {
     "name": "stdout",
     "output_type": "stream",
     "text": [
      "For values of alpha =  1e-05 The accuracy  is: 0.605934009719\n",
      "For values of alpha =  0.0001 The accuracy  is: 0.620257481456\n",
      "For values of alpha =  0.001 The accuracy  is: 0.557165998806\n",
      "For values of alpha =  0.01 The accuracy  is: 0.429618893341\n",
      "For values of alpha =  0.1 The accuracy  is: 0.29286384176\n",
      "For values of alpha =  1 The accuracy  is: 0.168045016625\n",
      "For values of alpha =  10 The accuracy  is: 0.150822747037\n"
     ]
    },
    {
     "data": {
      "image/png": "[encoded data removed]",
      "text/plain": [
       "<matplotlib.figure.Figure at 0x7feb4a849748>"
      ]
     },
     "metadata": {},
     "output_type": "display_data"
    },
    {
     "name": "stdout",
     "output_type": "stream",
     "text": [
      "For values of best alpha =  0.0001 The train accuracy is: 0.787743791964\n",
      "For values of best alpha =  0.0001 The cross validation accuracy is: 0.620257481456\n",
      "For values of best alpha =  0.0001 The test accuracy is: 0.617079326103\n"
     ]
    }
   ],
   "source": [
    "#logistic regression for Bag Of Words\n",
    "alpha = [10 ** x for x in range(-5, 2)]\n",
    "accuracy_array=[]\n",
    "for i in alpha:\n",
    "    clf = SGDClassifier(alpha=i, penalty='l2', loss='log', random_state=42)\n",
    "    clf.fit(vector1, y_train)\n",
    "    s_clf=CalibratedClassifierCV(clf,method=\"sigmoid\")\n",
    "    s_clf.fit(vector1,y_train)\n",
    "   \n",
    "    y_predict = s_clf.predict(cv_description) \n",
    "    accuracy_array.append(accuracy_score(y_cv, y_predict))\n",
    "    print('For values of alpha = ', i, \"The accuracy  is:\",accuracy_score(y_cv, y_predict))\n",
    "\n",
    "fig, ax = plt.subplots()\n",
    "ax.plot(alpha, accuracy_array)\n",
    "for i, txt in enumerate(np.round(accuracy_array,4)):\n",
    "    ax.annotate((alpha[i],np.round(txt,4)), (alpha[i],accuracy_array[i]))\n",
    "plt.grid()\n",
    "plt.title(\"Cross Validation accuracy for each alpha\")\n",
    "plt.xlabel(\"Alpha i's\")\n",
    "plt.ylabel(\"Accuracy measure\")\n",
    "plt.show()\n",
    "\n",
    "best_alpha = np.argmax(accuracy_array)\n",
    "clf = SGDClassifier(alpha=alpha[best_alpha], penalty='l2', loss='log', random_state=42)\n",
    "clf.fit(vector1, y_train)\n",
    "s_clf=CalibratedClassifierCV(clf,method=\"sigmoid\")\n",
    "s_clf.fit(vector1,y_train)\n",
    "   \n",
    "\n",
    "y_predict = s_clf.predict(vector1)\n",
    "print('For values of best alpha = ', alpha[best_alpha], \"The train accuracy is:\",accuracy_score(y_train, y_predict))\n",
    "y_predict = s_clf.predict(cv_description)\n",
    "print('For values of best alpha = ', alpha[best_alpha], \"The cross validation accuracy is:\",accuracy_score(y_cv, y_predict))\n",
    "y_predict = s_clf.predict(test_description)\n",
    "print('For values of best alpha = ', alpha[best_alpha], \"The test accuracy is:\",accuracy_score(y_test, y_predict))\n",
    "\n",
    "\n",
    "\n",
    "\n",
    "\n",
    "\n",
    "\n",
    "\n",
    "\n",
    "\n"
   ]
  },
  {
   "cell_type": "code",
   "execution_count": 41,
   "metadata": {},
   "outputs": [
    {
     "name": "stdout",
     "output_type": "stream",
     "text": [
      "For values of alpha =  1e-05 The accuracy  is: 0.641060618979\n",
      "For values of alpha =  0.0001 The accuracy  is: 0.592377866826\n",
      "For values of alpha =  0.001 The accuracy  is: 0.500724699463\n",
      "For values of alpha =  0.01 The accuracy  is: 0.352459715236\n",
      "For values of alpha =  0.1 The accuracy  is: 0.218432943985\n",
      "For values of alpha =  1 The accuracy  is: 0.188166084065\n",
      "For values of alpha =  10 The accuracy  is: 0.185352544974\n"
     ]
    },
    {
     "data": {
      "image/png": "[encoded data removed]",
      "text/plain": [
       "<matplotlib.figure.Figure at 0x7feb4a70d048>"
      ]
     },
     "metadata": {},
     "output_type": "display_data"
    },
    {
     "name": "stdout",
     "output_type": "stream",
     "text": [
      "For values of best alpha =  1e-05 The train accuracy is: 0.770755621869\n",
      "For values of best alpha =  1e-05 The cross validation accuracy is: 0.626055077159\n",
      "For values of best alpha =  1e-05 The test accuracy is: 0.619534820271\n"
     ]
    }
   ],
   "source": [
    "#logistic regression for tfidf\n",
    "alpha = [10 ** x for x in range(-5, 2)]\n",
    "accuracy_array=[]\n",
    "for i in alpha:\n",
    "    clf = SGDClassifier(alpha=i, penalty='l2', loss='log', random_state=42)\n",
    "    clf.fit(vector_desc_train, y_train)\n",
    "    s_clf=CalibratedClassifierCV(clf,method=\"sigmoid\")\n",
    "    s_clf.fit(vector_desc_train,y_train)\n",
    "    y_predict = s_clf.predict(vector_desc_cv)\n",
    "    \n",
    "    accuracy_array.append(accuracy_score(y_cv, y_predict))\n",
    "    print('For values of alpha = ', i, \"The accuracy  is:\",accuracy_score(y_cv, y_predict))\n",
    "\n",
    "fig, ax = plt.subplots()\n",
    "ax.plot(alpha, accuracy_array)\n",
    "for i, txt in enumerate(np.round(accuracy_array,4)):\n",
    "    ax.annotate((alpha[i],np.round(txt,4)), (alpha[i],accuracy_array[i]))\n",
    "plt.grid()\n",
    "plt.title(\"Cross Validation accuracy for each alpha\")\n",
    "plt.xlabel(\"Alpha i's\")\n",
    "plt.ylabel(\"Accuracy measure\")\n",
    "plt.show()\n",
    "\n",
    "best_alpha = np.argmax(accuracy_array)\n",
    "clf = SGDClassifier(alpha=alpha[best_alpha], penalty='l2', loss='log', random_state=42)\n",
    "clf.fit(vector_desc_train, y_train)\n",
    "s_clf=CalibratedClassifierCV(clf,method=\"sigmoid\")\n",
    "s_clf.fit(vector_desc_train,y_train)\n",
    "\n",
    "y_predict = clf.predict(vector_desc_train)\n",
    "print('For values of best alpha = ', alpha[best_alpha], \"The train accuracy is:\",accuracy_score(y_train, y_predict))\n",
    "y_predict = clf.predict(vector_desc_cv)\n",
    "print('For values of best alpha = ', alpha[best_alpha], \"The cross validation accuracy is:\",accuracy_score(y_cv, y_predict))\n",
    "y_predict = clf.predict(vector_desc_test)\n",
    "print('For values of best alpha = ', alpha[best_alpha], \"The test accuracy is:\",accuracy_score(y_test, y_predict))\n",
    "\n",
    "\n",
    "\n"
   ]
  },
  {
   "cell_type": "code",
   "execution_count": 42,
   "metadata": {},
   "outputs": [
    {
     "name": "stdout",
     "output_type": "stream",
     "text": [
      "For values of alpha =  1e-05 The accuracy  is: 0.600733225339\n",
      "For values of alpha =  0.0001 The accuracy  is: 0.62111006906\n",
      "For values of alpha =  0.001 The accuracy  is: 0.613095745588\n",
      "For values of alpha =  0.01 The accuracy  is: 0.492113564669\n",
      "For values of alpha =  0.1 The accuracy  is: 0.323556995481\n",
      "For values of alpha =  1 The accuracy  is: 0.152272145963\n",
      "For values of alpha =  10 The accuracy  is: 0.149458606872\n"
     ]
    },
    {
     "data": {
      "image/png": "[encoded data removed]",
      "text/plain": [
       "<matplotlib.figure.Figure at 0x7feb4a7e02e8>"
      ]
     },
     "metadata": {},
     "output_type": "display_data"
    },
    {
     "name": "stdout",
     "output_type": "stream",
     "text": [
      "For values of best alpha =  0.0001 The train accuracy is: 0.835106042843\n",
      "For values of best alpha =  0.0001 The cross validation accuracy is: 0.600562707818\n",
      "For values of best alpha =  0.0001 The test accuracy is: 0.59600300116\n"
     ]
    }
   ],
   "source": [
    "#For Bag Of Words\n",
    "alpha = [10 ** x for x in range(-5, 2)]\n",
    "accuracy_array=[]\n",
    "for i in alpha:\n",
    "    clf = SGDClassifier(alpha=i, penalty='l2', loss='hinge', random_state=42)\n",
    "    clf.fit(vector1, y_train)\n",
    "    s_clf=CalibratedClassifierCV(clf,method=\"sigmoid\")\n",
    "    s_clf.fit(vector1,y_train)\n",
    "    y_predict=s_clf.predict(cv_description)\n",
    "    accuracy_array.append(accuracy_score(y_cv, y_predict))\n",
    "    print('For values of alpha = ', i, \"The accuracy  is:\",accuracy_score(y_cv, y_predict))\n",
    "\n",
    "fig, ax = plt.subplots()\n",
    "ax.plot(alpha, accuracy_array)\n",
    "for i, txt in enumerate(np.round(accuracy_array,4)):\n",
    "    ax.annotate((alpha[i],np.round(txt,4)), (alpha[i],accuracy_array[i]))\n",
    "plt.grid()\n",
    "plt.title(\"Cross Validation accuracy for each alpha\")\n",
    "plt.xlabel(\"Alpha i's\")\n",
    "plt.ylabel(\"Accuracy measure\")\n",
    "plt.show()\n",
    "\n",
    "best_alpha = np.argmax(accuracy_array)\n",
    "clf = SGDClassifier(alpha=alpha[best_alpha], penalty='l2', loss='hinge', random_state=42)\n",
    "clf.fit(vector1, y_train)\n",
    "s_clf=CalibratedClassifierCV(clf,method=\"sigmoid\")\n",
    "s_clf.fit(vector1,y_train)\n",
    "y_predict=s_clf.predict(vector1)\n",
    "\n",
    "\n",
    "print('For values of best alpha = ', alpha[best_alpha], \"The train accuracy is:\",accuracy_score(y_train, y_predict))\n",
    "y_predict = clf.predict(cv_description)\n",
    "print('For values of best alpha = ', alpha[best_alpha], \"The cross validation accuracy is:\",accuracy_score(y_cv, y_predict))\n",
    "y_predict = clf.predict(test_description)\n",
    "print('For values of best alpha = ', alpha[best_alpha], \"The test accuracy is:\",accuracy_score(y_test, y_predict))\n",
    "\n",
    "\n",
    "\n"
   ]
  },
  {
   "cell_type": "code",
   "execution_count": 43,
   "metadata": {},
   "outputs": [
    {
     "name": "stdout",
     "output_type": "stream",
     "text": [
      "For values of alpha =  1e-05 The accuracy  is: 0.433370278796\n",
      "For values of alpha =  0.0001 The accuracy  is: 0.461079375906\n",
      "For values of alpha =  0.001 The accuracy  is: 0.236337283656\n",
      "For values of alpha =  0.01 The accuracy  is: 0.230028135391\n",
      "For values of alpha =  0.1 The accuracy  is: 0.214511041009\n",
      "For values of alpha =  1 The accuracy  is: 0.109813283315\n",
      "For values of alpha =  10 The accuracy  is: 0.0896922158752\n"
     ]
    },
    {
     "data": {
      "image/png": "[encoded data removed]",
      "text/plain": [
       "<matplotlib.figure.Figure at 0x7feb4a70d6d8>"
      ]
     },
     "metadata": {},
     "output_type": "display_data"
    },
    {
     "name": "stdout",
     "output_type": "stream",
     "text": [
      "For values of best alpha =  0.0001 The train accuracy is: 0.786741980177\n",
      "For values of best alpha =  0.0001 The cross validation accuracy is: 0.607724443687\n",
      "For values of best alpha =  0.0001 The test accuracy is: 0.603233067321\n"
     ]
    }
   ],
   "source": [
    "#for tfidf\n",
    "alpha = [10 ** x for x in range(-5, 2)]\n",
    "accuracy_array=[]\n",
    "for i in alpha:\n",
    "    clf = SGDClassifier(alpha=i, penalty='l2', loss='hinge', random_state=42)\n",
    "    clf.fit(vector_desc_train, y_train)\n",
    "    s_clf=CalibratedClassifierCV(clf,method=\"sigmoid\")\n",
    "    s_clf.fit(vector1,y_train)\n",
    "    y_predict=s_clf.predict(vector_desc_cv)\n",
    "    accuracy_array.append(accuracy_score(y_cv, y_predict))\n",
    "    print('For values of alpha = ', i, \"The accuracy  is:\",accuracy_score(y_cv, y_predict))\n",
    "\n",
    "fig, ax = plt.subplots()\n",
    "ax.plot(alpha, accuracy_array)\n",
    "for i, txt in enumerate(np.round(accuracy_array,4)):\n",
    "    ax.annotate((alpha[i],np.round(txt,4)), (alpha[i],accuracy_array[i]))\n",
    "plt.grid()\n",
    "plt.title(\"Cross Validation accuracy for each alpha\")\n",
    "plt.xlabel(\"Alpha i's\")\n",
    "plt.ylabel(\"Accuracy\")\n",
    "plt.show()\n",
    "\n",
    "best_alpha = np.argmax(accuracy_array)\n",
    "clf = SGDClassifier(alpha=alpha[best_alpha], penalty='l2', loss='hinge', random_state=42)\n",
    "clf.fit(vector_desc_train, y_train)\n",
    "s_clf=CalibratedClassifierCV(clf,method=\"sigmoid\")\n",
    "s_clf.fit(vector_desc_train,y_train)\n",
    "y_predict=s_clf.predict(vector_desc_train)\n",
    "\n",
    "\n",
    "print('For values of best alpha = ', alpha[best_alpha], \"The train accuracy is:\",accuracy_score(y_train, y_predict))\n",
    "y_predict = clf.predict(vector_desc_cv)\n",
    "print('For values of best alpha = ', alpha[best_alpha], \"The cross validation accuracy is:\",accuracy_score(y_cv, y_predict))\n",
    "y_predict = clf.predict(vector_desc_test)\n",
    "print('For values of best alpha = ', alpha[best_alpha], \"The test accuracy is:\",accuracy_score(y_test, y_predict))\n",
    "\n",
    "\n",
    "\n"
   ]
  },
  {
   "cell_type": "code",
   "execution_count": 44,
   "metadata": {},
   "outputs": [
    {
     "name": "stdout",
     "output_type": "stream",
     "text": [
      "For values of alpha =  1e-05 The accuracy  is: 0.598772273851\n",
      "For values of alpha =  0.0001 The accuracy  is: 0.605251939637\n",
      "For values of alpha =  0.001 The accuracy  is: 0.633557848069\n",
      "For values of alpha =  0.01 The accuracy  is: 0.585471907238\n",
      "For values of alpha =  0.1 The accuracy  is: 0.448546338136\n",
      "For values of alpha =  1 The accuracy  is: 0.292437547958\n",
      "For values of alpha =  10 The accuracy  is: 0.164378889931\n"
     ]
    },
    {
     "data": {
      "image/png": "[encoded data removed]",
      "text/plain": [
       "<matplotlib.figure.Figure at 0x7feb4a3f2128>"
      ]
     },
     "metadata": {},
     "output_type": "display_data"
    },
    {
     "name": "stdout",
     "output_type": "stream",
     "text": [
      "For values of best alpha =  0.001 The train accuracy is: 0.837578599595\n",
      "For values of best alpha =  0.001 The cross validation accuracy is: 0.62119532782\n",
      "For values of best alpha =  0.001 The test accuracy is: 0.619125571243\n"
     ]
    }
   ],
   "source": [
    "#For Bag Of Words\n",
    "alpha = [10 ** x for x in range(-5, 2)]\n",
    "accuracy_array=[]\n",
    "for i in alpha:\n",
    "    clf = SGDClassifier(alpha=i, penalty='l2', loss='modified_huber', random_state=42)\n",
    "    clf.fit(vector1, y_train)\n",
    "    s_clf=CalibratedClassifierCV(clf,method=\"sigmoid\")\n",
    "    s_clf.fit(vector1,y_train)\n",
    "    y_predict=s_clf.predict(cv_description)\n",
    "    accuracy_array.append(accuracy_score(y_cv, y_predict))\n",
    "    print('For values of alpha = ', i, \"The accuracy  is:\",accuracy_score(y_cv, y_predict))\n",
    "\n",
    "fig, ax = plt.subplots()\n",
    "ax.plot(alpha, accuracy_array)\n",
    "for i, txt in enumerate(np.round(accuracy_array,4)):\n",
    "    ax.annotate((alpha[i],np.round(txt,4)), (alpha[i],accuracy_array[i]))\n",
    "plt.grid()\n",
    "plt.title(\"Cross Validation accuracy for each alpha\")\n",
    "plt.xlabel(\"Alpha i's\")\n",
    "plt.ylabel(\"Accuracy\")\n",
    "plt.show()\n",
    "\n",
    "best_alpha = np.argmax(accuracy_array)\n",
    "clf = SGDClassifier(alpha=alpha[best_alpha], penalty='l2', loss='modified_huber', random_state=42)\n",
    "clf.fit(vector1, y_train)\n",
    "s_clf=CalibratedClassifierCV(clf,method=\"sigmoid\")\n",
    "s_clf.fit(vector1,y_train)\n",
    "y_predict=s_clf.predict(vector1)\n",
    "print('For values of best alpha = ', alpha[best_alpha], \"The train accuracy is:\",accuracy_score(y_train, y_predict))\n",
    "y_predict = clf.predict(cv_description)\n",
    "print('For values of best alpha = ', alpha[best_alpha], \"The cross validation accuracy is:\",accuracy_score(y_cv, y_predict))\n",
    "y_predict = clf.predict(test_description)\n",
    "print('For values of best alpha = ', alpha[best_alpha], \"The test accuracy is:\",accuracy_score(y_test, y_predict))\n",
    "\n",
    "\n",
    "\n"
   ]
  },
  {
   "cell_type": "code",
   "execution_count": 45,
   "metadata": {},
   "outputs": [
    {
     "name": "stdout",
     "output_type": "stream",
     "text": [
      "For values of alpha =  1e-05 The accuracy  is: 0.61369255691\n",
      "For values of alpha =  0.0001 The accuracy  is: 0.643618381789\n",
      "For values of alpha =  0.001 The accuracy  is: 0.616420837241\n",
      "For values of alpha =  0.01 The accuracy  is: 0.558444880211\n",
      "For values of alpha =  0.1 The accuracy  is: 0.380083553585\n",
      "For values of alpha =  1 The accuracy  is: 0.217324580101\n",
      "For values of alpha =  10 The accuracy  is: 0.188677636627\n"
     ]
    },
    {
     "data": {
      "image/png": "[encoded data removed]",
      "text/plain": [
       "<matplotlib.figure.Figure at 0x7feb4a3f24a8>"
      ]
     },
     "metadata": {},
     "output_type": "display_data"
    },
    {
     "name": "stdout",
     "output_type": "stream",
     "text": [
      "For values of best alpha =  0.0001 The train accuracy is: 0.868315037834\n",
      "For values of best alpha =  0.0001 The cross validation accuracy is: 0.639525961293\n",
      "For values of best alpha =  0.0001 The test accuracy is: 0.631744082941\n"
     ]
    }
   ],
   "source": [
    "#for tfidf\n",
    "alpha = [10 ** x for x in range(-5, 2)]\n",
    "accuracy_array=[]\n",
    "for i in alpha:\n",
    "    clf = SGDClassifier(alpha=i, penalty='l2', loss='modified_huber', random_state=42)\n",
    "    clf.fit(vector_desc_train, y_train)\n",
    "    s_clf=CalibratedClassifierCV(clf,method=\"sigmoid\")\n",
    "    s_clf.fit(vector_desc_train,y_train)\n",
    "    y_predict=s_clf.predict(vector_desc_cv)\n",
    "    \n",
    "   \n",
    "    accuracy_array.append(accuracy_score(y_cv, y_predict))\n",
    "    print('For values of alpha = ', i, \"The accuracy  is:\",accuracy_score(y_cv, y_predict))\n",
    "\n",
    "fig, ax = plt.subplots()\n",
    "ax.plot(alpha, accuracy_array)\n",
    "for i, txt in enumerate(np.round(accuracy_array,4)):\n",
    "    ax.annotate((alpha[i],np.round(txt,4)), (alpha[i],accuracy_array[i]))\n",
    "plt.grid()\n",
    "plt.title(\"Cross Validation accuracy for each alpha\")\n",
    "plt.xlabel(\"Alpha i's\")\n",
    "plt.ylabel(\"Accuracy measure\")\n",
    "plt.show()\n",
    "\n",
    "best_alpha = np.argmax(accuracy_array)\n",
    "clf = SGDClassifier(alpha=alpha[best_alpha], penalty='l2', loss='modified_huber', random_state=42)\n",
    "clf.fit(vector_desc_train, y_train)\n",
    "s_clf=CalibratedClassifierCV(clf,method=\"sigmoid\")\n",
    "s_clf.fit(vector_desc_train,y_train)\n",
    "\n",
    "y_predict = s_clf.predict(vector_desc_train)\n",
    "print('For values of best alpha = ', alpha[best_alpha], \"The train accuracy is:\",accuracy_score(y_train, y_predict))\n",
    "y_predict = clf.predict(vector_desc_cv)\n",
    "print('For values of best alpha = ', alpha[best_alpha], \"The cross validation accuracy is:\",accuracy_score(y_cv, y_predict))\n",
    "y_predict = clf.predict(vector_desc_test)\n",
    "print('For values of best alpha = ', alpha[best_alpha], \"The test accuracy is:\",accuracy_score(y_test, y_predict))\n",
    "\n",
    "\n",
    "\n"
   ]
  },
  {
   "cell_type": "code",
   "execution_count": 46,
   "metadata": {},
   "outputs": [
    {
     "name": "stdout",
     "output_type": "stream",
     "text": [
      "For values of alpha =  1e-05 The accuracy  is: 0.630062238895\n",
      "For values of alpha =  0.0001 The accuracy  is: 0.607724443687\n",
      "For values of alpha =  0.001 The accuracy  is: 0.570210589138\n",
      "For values of alpha =  0.01 The accuracy  is: 0.572171540626\n",
      "For values of alpha =  0.1 The accuracy  is: 0.314604825646\n",
      "For values of alpha =  1 The accuracy  is: 0.0852587603376\n",
      "For values of alpha =  10 The accuracy  is: 0.00417767925654\n"
     ]
    },
    {
     "data": {
      "image/png": "[encoded data removed]",
      "text/plain": [
       "<matplotlib.figure.Figure at 0x7feb4a709358>"
      ]
     },
     "metadata": {},
     "output_type": "display_data"
    },
    {
     "name": "stdout",
     "output_type": "stream",
     "text": [
      "For values of best alpha =  1e-05 The train accuracy is: 0.885175317063\n",
      "For values of best alpha =  1e-05 The cross validation accuracy is: 0.630062238895\n",
      "For values of best alpha =  1e-05 The test accuracy is: 0.625537139349\n"
     ]
    }
   ],
   "source": [
    "#for tfidf\n",
    "alpha = [10 ** x for x in range(-5, 2)]\n",
    "accuracy_array=[]\n",
    "for i in alpha:\n",
    "    clf = SGDClassifier(alpha=i, penalty='l2', loss='hinge', random_state=42)\n",
    "    clf.fit(vector_desc_train, y_train)\n",
    "    \n",
    "    \n",
    "    y_predict = clf.predict(vector_desc_cv)\n",
    "    \n",
    "    accuracy_array.append(accuracy_score(y_cv, y_predict))\n",
    "    print('For values of alpha = ', i, \"The accuracy  is:\",accuracy_score(y_cv, y_predict))\n",
    "\n",
    "fig, ax = plt.subplots()\n",
    "ax.plot(alpha, accuracy_array)\n",
    "for i, txt in enumerate(np.round(accuracy_array,4)):\n",
    "    ax.annotate((alpha[i],np.round(txt,4)), (alpha[i],accuracy_array[i]))\n",
    "plt.grid()\n",
    "plt.title(\"Cross Validation accuracy for each alpha\")\n",
    "plt.xlabel(\"Alpha i's\")\n",
    "plt.ylabel(\"Accuracy measure\")\n",
    "plt.show()\n",
    "\n",
    "best_alpha = np.argmax(accuracy_array)\n",
    "clf = SGDClassifier(alpha=alpha[best_alpha], penalty='l2', loss='hinge', random_state=42)\n",
    "clf.fit(vector_desc_train, y_train)\n",
    "\n",
    "\n",
    "y_predict = clf.predict(vector_desc_train)\n",
    "print('For values of best alpha = ', alpha[best_alpha], \"The train accuracy is:\",accuracy_score(y_train, y_predict))\n",
    "y_predict = clf.predict(vector_desc_cv)\n",
    "print('For values of best alpha = ', alpha[best_alpha], \"The cross validation accuracy is:\",accuracy_score(y_cv, y_predict))\n",
    "y_predict = clf.predict(vector_desc_test)\n",
    "print('For values of best alpha = ', alpha[best_alpha], \"The test accuracy is:\",accuracy_score(y_test, y_predict))\n",
    "\n",
    "\n",
    "\n"
   ]
  },
  {
   "cell_type": "code",
   "execution_count": 48,
   "metadata": {},
   "outputs": [
    {
     "name": "stdout",
     "output_type": "stream",
     "text": [
      "for alpha = 1e-06\n",
      "accuracy : 0.477022764089\n",
      "for alpha = 1e-05\n",
      "accuracy : 0.491260977065\n",
      "for alpha = 0.0001\n",
      "accuracy : 0.503879273595\n",
      "for alpha = 0.001\n",
      "accuracy : 0.519225850456\n",
      "for alpha = 0.1\n",
      "accuracy : 0.543268820871\n",
      "for alpha = 1\n",
      "accuracy : 0.45962997698\n",
      "for alpha = 10\n",
      "accuracy : 0.347088413334\n",
      "for alpha = 100\n",
      "accuracy : 0.334043823003\n",
      "for alpha = 1000\n",
      "accuracy : 0.336857362094\n"
     ]
    },
    {
     "data": {
      "image/png": "[encoded data removed]",
      "text/plain": [
       "<matplotlib.figure.Figure at 0x7feb4a2e35c0>"
      ]
     },
     "metadata": {},
     "output_type": "display_data"
    },
    {
     "name": "stdout",
     "output_type": "stream",
     "text": [
      "For values of best alpha =  0.1 The train accuracy is: 0.755131621017\n",
      "For values of best alpha =  0.1 The cross validation accuracy is: 0.543268820871\n",
      "For values of best alpha =  0.1 The test accuracy is: 0.540890798718\n"
     ]
    }
   ],
   "source": [
    "#naive_bayes for BoW\n",
    "from sklearn.naive_bayes import MultinomialNB\n",
    "alpha = [0.000001,0.00001, 0.0001, 0.001, 0.1, 1, 10, 100,1000]\n",
    "accu_array = []\n",
    "for i in alpha:\n",
    "    print(\"for alpha =\", i)\n",
    "    clf = MultinomialNB(alpha=i)\n",
    "    clf.fit(vector1,y_train)\n",
    "    sig_clf = CalibratedClassifierCV(clf, method=\"sigmoid\")\n",
    "    sig_clf.fit(vector1,y_train)\n",
    "    sig_clf_pro = sig_clf.predict(cv_description)\n",
    "    accu_array.append(accuracy_score(y_cv, sig_clf_pro))\n",
    "   \n",
    "    print(\"accuracy :\",accuracy_score(y_cv, sig_clf_pro)) \n",
    "\n",
    "fig, ax = plt.subplots()\n",
    "ax.plot(np.log10(alpha), accu_array)\n",
    "for i, txt in enumerate(np.round(accu_array,3)):\n",
    "    ax.annotate((alpha[i],str(txt)), (np.log10(alpha[i]),accu_array[i]))\n",
    "plt.grid()\n",
    "plt.xticks(np.log10(alpha))\n",
    "plt.title(\"Cross Validation Error for each alpha\")\n",
    "plt.xlabel(\"Alpha i's\")\n",
    "plt.ylabel(\"Error measure\")\n",
    "plt.show()\n",
    "\n",
    "\n",
    "best_alpha = np.argmax(accu_array)\n",
    "clf = MultinomialNB(alpha=alpha[best_alpha])\n",
    "clf.fit(vector1, y_train)\n",
    "sig_clf = CalibratedClassifierCV(clf, method=\"sigmoid\")\n",
    "sig_clf.fit(vector1, y_train)\n",
    "\n",
    "\n",
    "y_predict = sig_clf.predict(vector1)\n",
    "print('For values of best alpha = ', alpha[best_alpha], \"The train accuracy is:\",accuracy_score(y_train, y_predict))\n",
    "y_predict = sig_clf.predict(cv_description)\n",
    "print('For values of best alpha = ', alpha[best_alpha], \"The cross validation accuracy is:\",accuracy_score(y_cv, y_predict))\n",
    "y_predict = sig_clf.predict(test_description)\n",
    "print('For values of best alpha = ', alpha[best_alpha], \"The test accuracy is:\",accuracy_score(y_test, y_predict))"
   ]
  },
  {
   "cell_type": "code",
   "execution_count": 50,
   "metadata": {},
   "outputs": [
    {
     "name": "stdout",
     "output_type": "stream",
     "text": [
      "for alpha = 1e-06\n",
      "accuracy : 0.451615653508\n",
      "for alpha = 1e-05\n",
      "accuracy : 0.463296103675\n",
      "for alpha = 0.0001\n",
      "accuracy : 0.478727939296\n",
      "for alpha = 0.001\n",
      "accuracy : 0.501918322108\n",
      "for alpha = 0.1\n",
      "accuracy : 0.510955750703\n",
      "for alpha = 1\n",
      "accuracy : 0.469861028221\n",
      "for alpha = 10\n",
      "accuracy : 0.458351095575\n",
      "for alpha = 100\n",
      "accuracy : 0.450251513343\n",
      "for alpha = 1000\n",
      "accuracy : 0.447523233012\n"
     ]
    },
    {
     "data": {
      "image/png": "[encoded data removed]",
      "text/plain": [
       "<matplotlib.figure.Figure at 0x7feb480c6198>"
      ]
     },
     "metadata": {},
     "output_type": "display_data"
    },
    {
     "name": "stdout",
     "output_type": "stream",
     "text": [
      "For values of best alpha =  0.1 The train accuracy is: 0.72232761377\n",
      "For values of best alpha =  0.1 The cross validation accuracy is: 0.510955750703\n",
      "For values of best alpha =  0.1 The test accuracy is: 0.513539322011\n"
     ]
    }
   ],
   "source": [
    "#naive_bayes for tfidf\n",
    "from sklearn.naive_bayes import MultinomialNB\n",
    "alpha = [0.000001,0.00001, 0.0001, 0.001, 0.1, 1, 10, 100,1000]\n",
    "accu_array = []\n",
    "for i in alpha:\n",
    "    print(\"for alpha =\", i)\n",
    "    clf = MultinomialNB(alpha=i)\n",
    "    clf.fit(vector_desc_train,y_train)\n",
    "    sig_clf = CalibratedClassifierCV(clf, method=\"sigmoid\")\n",
    "    sig_clf.fit(vector_desc_train,y_train)\n",
    "    sig_clf_pro = sig_clf.predict(vector_desc_cv)\n",
    "    accu_array.append(accuracy_score(y_cv, sig_clf_pro))\n",
    "   \n",
    "    print(\"accuracy :\",accuracy_score(y_cv, sig_clf_pro)) \n",
    "\n",
    "fig, ax = plt.subplots()\n",
    "ax.plot(np.log10(alpha), accu_array)\n",
    "for i, txt in enumerate(np.round(accu_array,3)):\n",
    "    ax.annotate((alpha[i],str(txt)), (np.log10(alpha[i]),accu_array[i]))\n",
    "plt.grid()\n",
    "plt.xticks(np.log10(alpha))\n",
    "plt.title(\"Cross Validation Error for each alpha\")\n",
    "plt.xlabel(\"Alpha i's\")\n",
    "plt.ylabel(\"Error measure\")\n",
    "plt.show()\n",
    "\n",
    "\n",
    "best_alpha = np.argmax(accu_array)\n",
    "clf = MultinomialNB(alpha=alpha[best_alpha])\n",
    "clf.fit(vector_desc_train, y_train)\n",
    "sig_clf = CalibratedClassifierCV(clf, method=\"sigmoid\")\n",
    "sig_clf.fit(vector_desc_train, y_train)\n",
    "\n",
    "\n",
    "y_predict = sig_clf.predict(vector_desc_train)\n",
    "print('For values of best alpha = ', alpha[best_alpha], \"The train accuracy is:\",accuracy_score(y_train, y_predict))\n",
    "y_predict = sig_clf.predict(vector_desc_cv)\n",
    "print('For values of best alpha = ', alpha[best_alpha], \"The cross validation accuracy is:\",accuracy_score(y_cv, y_predict))\n",
    "y_predict = sig_clf.predict(vector_desc_test)\n",
    "print('For values of best alpha = ', alpha[best_alpha], \"The test accuracy is:\",accuracy_score(y_test, y_predict))"
   ]
  }
 ],
 "metadata": {
  "kernelspec": {
   "display_name": "Python 3",
   "language": "python",
   "name": "python3"
  },
  "language_info": {
   "codemirror_mode": {
    "name": "ipython",
    "version": 3
   },
   "file_extension": ".py",
   "mimetype": "text/x-python",
   "name": "python",
   "nbconvert_exporter": "python",
   "pygments_lexer": "ipython3",
   "version": "3.6.3"
  }
 },
 "nbformat": 4,
 "nbformat_minor": 2
}
